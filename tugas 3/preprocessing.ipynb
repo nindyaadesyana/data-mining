{
 "cells": [
  {
   "cell_type": "code",
   "execution_count": 4,
   "metadata": {},
   "outputs": [
    {
     "name": "stdout",
     "output_type": "stream",
     "text": [
      "Data berhasil disimpan di D:\\smt5\\penambangan data\tugas 3\\Data.csv\n"
     ]
    },
    {
     "name": "stderr",
     "output_type": "stream",
     "text": [
      "<>:21: SyntaxWarning: invalid escape sequence '\\s'\n",
      "<>:21: SyntaxWarning: invalid escape sequence '\\s'\n",
      "C:\\Users\\User\\AppData\\Local\\Temp\\ipykernel_10628\\1409906347.py:21: SyntaxWarning: invalid escape sequence '\\s'\n",
      "  print(\"Data berhasil disimpan di D:\\smt5\\penambangan data\\tugas 3\\Data.csv\")\n"
     ]
    }
   ],
   "source": [
    "import pandas as pd\n",
    "\n",
    "# Buat dataset\n",
    "data = {\n",
    "    'Country': ['France', 'Spain', 'Germany', 'Spain', 'Germany', \n",
    "                'France', 'Spain', 'France', 'Germany', 'France'],\n",
    "    'Age': [44, 27, 30, 38, 40, 35, 52, 48, 50, 37],\n",
    "    'Salary': [72000, 48000, 54000, 61000, 61000, \n",
    "               58000, 52000, 79000, 83000, 67000],\n",
    "    'Purchased': ['No', 'Yes', 'No', 'No', 'Yes', \n",
    "                  'Yes', 'No', 'Yes', 'No', 'Yes']\n",
    "}\n",
    "\n",
    "# Convert ke DataFrame\n",
    "df = pd.DataFrame(data)\n",
    "\n",
    "# Simpan sebagai CSV di lokasi yang Anda tentukan\n",
    "df.to_csv('D:\\\\smt5\\\\penambangan data\\\\tugas 3\\\\Data.csv', index=False)\n",
    "\n",
    "\n",
    "print(\"Data berhasil disimpan di D:\\smt5\\penambangan data\\tugas 3\\Data.csv\")\n"
   ]
  },
  {
   "cell_type": "code",
   "execution_count": null,
   "metadata": {},
   "outputs": [
    {
     "name": "stdout",
     "output_type": "stream",
     "text": [
      "[['France' 44 72000]\n",
      " ['Spain' 27 48000]\n",
      " ['Germany' 30 54000]\n",
      " ['Spain' 38 61000]\n",
      " ['Germany' 40 61000]\n",
      " ['France' 35 58000]\n",
      " ['Spain' 52 52000]\n",
      " ['France' 48 79000]\n",
      " ['Germany' 50 83000]\n",
      " ['France' 37 67000]]\n",
      "['No' 'Yes' 'No' 'No' 'Yes' 'Yes' 'No' 'Yes' 'No' 'Yes']\n"
     ]
    },
    {
     "ename": "NameError",
     "evalue": "name 'X' is not defined",
     "output_type": "error",
     "traceback": [
      "\u001b[1;31m---------------------------------------------------------------------------\u001b[0m",
      "\u001b[1;31mNameError\u001b[0m                                 Traceback (most recent call last)",
      "Cell \u001b[1;32mIn[9], line 13\u001b[0m\n\u001b[0;32m     11\u001b[0m \u001b[38;5;28;01mfrom\u001b[39;00m \u001b[38;5;21;01msklearn\u001b[39;00m\u001b[38;5;21;01m.\u001b[39;00m\u001b[38;5;21;01mimpute\u001b[39;00m \u001b[38;5;28;01mimport\u001b[39;00m SimpleImputer\n\u001b[0;32m     12\u001b[0m imputer \u001b[38;5;241m=\u001b[39m SimpleImputer(missing_values\u001b[38;5;241m=\u001b[39mnp\u001b[38;5;241m.\u001b[39mnan, strategy\u001b[38;5;241m=\u001b[39m\u001b[38;5;124m'\u001b[39m\u001b[38;5;124mmean\u001b[39m\u001b[38;5;124m'\u001b[39m)\n\u001b[1;32m---> 13\u001b[0m imputer\u001b[38;5;241m.\u001b[39mfit(\u001b[43mX\u001b[49m[:, \u001b[38;5;241m1\u001b[39m:\u001b[38;5;241m3\u001b[39m])\n\u001b[0;32m     14\u001b[0m x[:, \u001b[38;5;241m1\u001b[39m:\u001b[38;5;241m3\u001b[39m] \u001b[38;5;241m=\u001b[39m imputer\u001b[38;5;241m.\u001b[39mtransform(X[:, \u001b[38;5;241m1\u001b[39m:\u001b[38;5;241m3\u001b[39m])\n",
      "\u001b[1;31mNameError\u001b[0m: name 'X' is not defined"
     ]
    }
   ],
   "source": [
    "import numpy as np\n",
    "import matplotlib.pyplot as plt\n",
    "import pandas as pd\n",
    "\n",
    "dataset = pd.read_csv('D:\\\\smt5\\\\penambangan data\\\\tugas 3\\\\Data.csv')\n",
    "x = dataset.iloc[:, :-1].values\n",
    "y = dataset.iloc[:, -1].values\n",
    "print(x)\n",
    "print(y)\n",
    "\n"
   ]
  },
  {
   "cell_type": "code",
   "execution_count": 10,
   "metadata": {},
   "outputs": [
    {
     "name": "stdout",
     "output_type": "stream",
     "text": [
      "[['France' 44.0 72000.0]\n",
      " ['Spain' 27.0 48000.0]\n",
      " ['Germany' 30.0 54000.0]\n",
      " ['Spain' 38.0 61000.0]\n",
      " ['Germany' 40.0 61000.0]\n",
      " ['France' 35.0 58000.0]\n",
      " ['Spain' 52.0 52000.0]\n",
      " ['France' 48.0 79000.0]\n",
      " ['Germany' 50.0 83000.0]\n",
      " ['France' 37.0 67000.0]]\n"
     ]
    }
   ],
   "source": [
    "from sklearn.impute import SimpleImputer\n",
    "import numpy as np\n",
    "import pandas as pd\n",
    "\n",
    "# Baca file CSV dengan path yang benar\n",
    "dataset = pd.read_csv(r'D:\\smt5\\penambangan data\\tugas 3\\Data.csv')\n",
    "\n",
    "# Ambil fitur (x) dan label (y)\n",
    "x = dataset.iloc[:, :-1].values   # Semua kolom kecuali kolom terakhir\n",
    "y = dataset.iloc[:, -1].values    # Kolom terakhir\n",
    "\n",
    "# Mengatasi missing values (imputer)\n",
    "imputer = SimpleImputer(missing_values=np.nan, strategy='mean')\n",
    "\n",
    "# Fit imputer ke kolom yang berisi data numerik (contohnya kolom 1 dan 2)\n",
    "imputer.fit(x[:, 1:3])\n",
    "\n",
    "# Transformasi data pada kolom yang berisi missing values\n",
    "x[:, 1:3] = imputer.transform(x[:, 1:3])\n",
    "\n",
    "print(x)\n"
   ]
  },
  {
   "cell_type": "code",
   "execution_count": 14,
   "metadata": {},
   "outputs": [
    {
     "name": "stdout",
     "output_type": "stream",
     "text": [
      "[[0.0 1.0 0.0 0.0 44.0 72000.0]\n",
      " [1.0 0.0 0.0 1.0 27.0 48000.0]\n",
      " [1.0 0.0 1.0 0.0 30.0 54000.0]\n",
      " [1.0 0.0 0.0 1.0 38.0 61000.0]\n",
      " [1.0 0.0 1.0 0.0 40.0 61000.0]\n",
      " [0.0 1.0 0.0 0.0 35.0 58000.0]\n",
      " [1.0 0.0 0.0 1.0 52.0 52000.0]\n",
      " [0.0 1.0 0.0 0.0 48.0 79000.0]\n",
      " [1.0 0.0 1.0 0.0 50.0 83000.0]\n",
      " [0.0 1.0 0.0 0.0 37.0 67000.0]]\n"
     ]
    }
   ],
   "source": [
    "from sklearn.compose import ColumnTransformer\n",
    "from sklearn.preprocessing import OneHotEncoder\n",
    "import numpy as np\n",
    "\n",
    "# Definisi ColumnTransformer dengan OneHotEncoder untuk kolom pertama\n",
    "ct = ColumnTransformer(transformers=[('encoder', OneHotEncoder(), [0])], remainder='passthrough')\n",
    "\n",
    "# Transformasi x dengan OneHotEncoder pada kolom pertama\n",
    "x = np.array(ct.fit_transform(x))\n",
    "\n",
    "print(x)\n"
   ]
  },
  {
   "cell_type": "code",
   "execution_count": 17,
   "metadata": {},
   "outputs": [
    {
     "name": "stdout",
     "output_type": "stream",
     "text": [
      "[0 1 0 0 1 1 0 1 0 1]\n"
     ]
    }
   ],
   "source": [
    "from sklearn.preprocessing import LabelEncoder\n",
    "Le = LabelEncoder()  # Corrected the typo here\n",
    "y = Le.fit_transform(y)\n",
    "print(y)\n"
   ]
  },
  {
   "cell_type": "code",
   "execution_count": 27,
   "metadata": {},
   "outputs": [
    {
     "name": "stdout",
     "output_type": "stream",
     "text": [
      "   feature1  feature2\n",
      "1         2         4\n",
      "4         5         1\n",
      "0         1         5\n",
      "3         4         2\n",
      "   feature1  feature2\n",
      "2         3         3\n",
      "1    1\n",
      "4    0\n",
      "0    0\n",
      "3    1\n",
      "Name: label, dtype: int64\n",
      "2    0\n",
      "Name: label, dtype: int64\n"
     ]
    }
   ],
   "source": [
    "from sklearn.model_selection import train_test_split\n",
    "X_train, X_test, y_train, y_test = train_test_split(X, y, test_size=0.2, random_state=1)\n",
    "print(X_train)\n",
    "print(X_test)\n",
    "print(y_train)\n",
    "print(y_test)\n"
   ]
  },
  {
   "cell_type": "code",
   "execution_count": 39,
   "metadata": {},
   "outputs": [
    {
     "name": "stdout",
     "output_type": "stream",
     "text": [
      "X_train after scaling:\n",
      "[[ 0.          0.          1.         -0.03120732 -1.01814408]\n",
      " [ 0.          1.          0.         -0.25223029  0.08674957]\n",
      " [ 1.          0.          0.         -0.97557817  0.85809043]\n",
      " [ 0.          0.          1.         -0.76111741 -0.17384074]\n",
      " [ 0.          1.          0.         -0.50871277 -1.1875154 ]\n",
      " [ 1.          0.          0.          0.27750001  1.88993396]\n",
      " [ 0.          0.          1.          2.25134594 -0.45527373]]\n",
      "\n",
      "X_test after scaling:\n",
      "[[ 0.          0.          1.          1.55613943  0.05734539]\n",
      " [ 1.          0.          0.         -0.82990395  0.3890318 ]]\n"
     ]
    }
   ],
   "source": [
    "# Import library yang dibutuhkan\n",
    "from sklearn.preprocessing import StandardScaler\n",
    "import numpy as np\n",
    "\n",
    "# Contoh dataset\n",
    "X_train = np.array([[0.0, 0.0, 1.0, 0.19159184384578545, -1.0781259408412425],\n",
    "                    [0.0, 1.0, 0.0, 0.014117293757057777, -0.07013167641635372],\n",
    "                    [1.0, 0.0, 0.0, -0.566708506533324, 0.633562432710455],\n",
    "                    [0.0, 0.0, 1.0, -0.39450319990224867, -0.30786817072429787],\n",
    "                    [0.0, 1.0, 0.0, -0.1918301410740971, -1.232643363551582],\n",
    "                    [1.0, 0.0, 0.0, 0.4394742060986881, 1.574913080363885],\n",
    "                    [0.0, 0.0, 1.0, 2.0244109454142023, -0.5646194287757323]])\n",
    "\n",
    "X_test = np.array([[0.0, 0.0, 1.0, 1.4661817944830124, -0.0969571034860727],\n",
    "                   [1.0, 0.0, 0.0, -0.44973664397484414, 0.205640339225306]])\n",
    "\n",
    "# Inisialisasi StandardScaler\n",
    "sc = StandardScaler()\n",
    "\n",
    "# Fit dan transform data X_train pada kolom ke-3 hingga akhir\n",
    "X_train[:, 3:] = sc.fit_transform(X_train[:, 3:])\n",
    "\n",
    "# Transform data X_test pada kolom ke-3 hingga akhir\n",
    "X_test[:, 3:] = sc.transform(X_test[:, 3:])\n",
    "\n",
    "# Cetak hasil transformasi\n",
    "print(\"X_train after scaling:\")\n",
    "print(X_train)\n",
    "\n",
    "print(\"\\nX_test after scaling:\")\n",
    "print(X_test)\n"
   ]
  }
 ],
 "metadata": {
  "kernelspec": {
   "display_name": "Python 3",
   "language": "python",
   "name": "python3"
  },
  "language_info": {
   "codemirror_mode": {
    "name": "ipython",
    "version": 3
   },
   "file_extension": ".py",
   "mimetype": "text/x-python",
   "name": "python",
   "nbconvert_exporter": "python",
   "pygments_lexer": "ipython3",
   "version": "3.12.4"
  }
 },
 "nbformat": 4,
 "nbformat_minor": 2
}
